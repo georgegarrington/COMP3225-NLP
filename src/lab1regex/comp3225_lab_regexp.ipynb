{
 "cells": [
  {
   "cell_type": "markdown",
   "metadata": {
    "id": "3z6rVAZSOE-X"
   },
   "source": [
    "# Regular Expressions Lab\n",
    "\n",
    "Regular expressions (aka regexes or regexps) are text matching patterns described with a formal syntax that were covered in Lecture 3. This lab covers two main issues\n",
    "- Basic Python Capabilities for Using Regular Expressions\n",
    "- How to use regular expressions for a variety of tasks"
   ]
  },
  {
   "cell_type": "markdown",
   "metadata": {
    "id": "nQukeWPfOE-i"
   },
   "source": [
    "## Basic Python Capabilities for Regular Expressions\n",
    "\n",
    "Regular expressions are implemented in the `re` package, which provides a number of functions to match regexps.\n"
   ]
  },
  {
   "cell_type": "code",
   "execution_count": 29,
   "metadata": {
    "colab": {
     "base_uri": "https://localhost:8080/"
    },
    "id": "M5kinJ0OOE-j",
    "outputId": "350f8cba-072e-4928-de28-120b44395c58"
   },
   "outputs": [
    {
     "name": "stdout",
     "output_type": "stream",
     "text": [
      "Found first term.\n"
     ]
    }
   ],
   "source": [
    "import re\n",
    "\n",
    "# List of patterns to search for\n",
    "\n",
    "# Text to parse\n",
    "text = 'This is a string with term1.'\n",
    "#returns a match object which can be used as a boolean in a boolean context\n",
    "if re.search(\"term[0-4]\",  text):\n",
    "        print('Found first term.')\n",
    "if re.search(\"term[5-9]\",  text):\n",
    "        print ('Found second term.')"
   ]
  },
  {
   "cell_type": "markdown",
   "metadata": {
    "id": "SHoNILGPOE-l"
   },
   "source": [
    "Now we've seen that `re.search()` will take the pattern, scan the text, and then returns a **Match** object corresponding to the first match. If no pattern is found, a **None** is returned. Both of these are truthy, so any successful match (even a match on a null string from an ill-advised Kleene \\*) will evaluate to `True` in a `Boolean` context. To give a clearer picture of this match object, check out the cell below:"
   ]
  },
  {
   "cell_type": "code",
   "execution_count": 30,
   "metadata": {
    "colab": {
     "base_uri": "https://localhost:8080/"
    },
    "id": "hVp6vnvlOE-m",
    "outputId": "a9c7271e-575b-4d9a-9e72-fb5024f6b045"
   },
   "outputs": [
    {
     "name": "stdout",
     "output_type": "stream",
     "text": [
      "The regexp matched '3225' between positions 16 and 20\n"
     ]
    }
   ],
   "source": [
    "#returns the first matching sequence it finds, i.e. here the first digit sequence found is 3225 so this is returned\n",
    "match = re.search(\"\\d+\",  \"This is the COMP3225 module's 1st lab\")\n",
    "\n",
    "#The percent thing in python means the string takes arguments like here\n",
    "print(\"The regexp matched '%s' between positions %s and %s\" % (match.group(0), match.start(), match.end()))"
   ]
  },
  {
   "cell_type": "markdown",
   "metadata": {
    "id": "fl-DfGzAOE-m"
   },
   "source": [
    "If you used capture groups in the regular expression, they will appear as arguments `1` up to `99` of the `match.groups()` method. "
   ]
  },
  {
   "cell_type": "code",
   "execution_count": 31,
   "metadata": {
    "id": "hS16_yC2OE-n",
    "outputId": "737e8a7e-2ae4-4fd4-e8fd-c39b4a6e839c"
   },
   "outputs": [
    {
     "name": "stdout",
     "output_type": "stream",
     "text": [
      "The regexp matched '3225' and '1'\n"
     ]
    }
   ],
   "source": [
    "#return the first thing that matches, i.e. a capture group of 1 or more digits, followed by any number of any digits up to an identical capture group of one or more digits\n",
    "match = re.search(\"(\\d+).*(\\d+)\",  \"This is the COMP3225 module's 1st lab\")\n",
    "\n",
    "#group(0) will return the entire expression matched\n",
    "print(\"The regexp matched '%s' and '%s'\" % (match.group(1), match.group(2)))"
   ]
  },
  {
   "cell_type": "markdown",
   "metadata": {
    "id": "ND71ud3nOE-n"
   },
   "source": [
    "There are three variants of the search function:\n",
    "- `re.match()` is anchored at the beginning of the search string\n",
    "- `re.fullmatch()` is anchored at the beginning and the end of the search string\n",
    "- `re.findall()` return all matches \n",
    "\n",
    "You can also look for all the matches in a string with `re.findall()`, but it returns a list of the actual strings matched rather than a `Match` object."
   ]
  },
  {
   "cell_type": "code",
   "execution_count": 32,
   "metadata": {
    "id": "rGa9aTNGOE-o",
    "outputId": "4f8c1061-2c07-42c1-f8d1-b78792f827f2"
   },
   "outputs": [
    {
     "name": "stdout",
     "output_type": "stream",
     "text": [
      "The regexp matched '['3225', '1']'\n"
     ]
    }
   ],
   "source": [
    "match = re.findall(\"\\d+\",  \"This is the COMP3225 module's 1st lab\")\n",
    "\n",
    "print(\"The regexp matched '%s'\" % (match))"
   ]
  },
  {
   "cell_type": "markdown",
   "metadata": {
    "id": "GRotekYXOE-o"
   },
   "source": [
    "To embed this in a _file-read-and-match-print-results_ code fragment that works line by line, we can do the following"
   ]
  },
  {
   "cell_type": "code",
   "execution_count": 33,
   "metadata": {
    "id": "GQfuF2FsOE-p",
    "outputId": "b6516491-b577-47c6-f4c1-3f85eaf7f8dd"
   },
   "outputs": [
    {
     "ename": "FileNotFoundError",
     "evalue": "[Errno 2] No such file or directory: 'mytest.txt'",
     "output_type": "error",
     "traceback": [
      "\u001b[0;31m---------------------------------------------------------------------------\u001b[0m",
      "\u001b[0;31mFileNotFoundError\u001b[0m                         Traceback (most recent call last)",
      "\u001b[0;32m<ipython-input-33-480c2a41fc69>\u001b[0m in \u001b[0;36m<module>\u001b[0;34m\u001b[0m\n\u001b[1;32m      2\u001b[0m \u001b[0;34m\u001b[0m\u001b[0m\n\u001b[1;32m      3\u001b[0m \u001b[0;31m#this will read the file as a stream one line at a time, bound to the variable in the for loop iteration\u001b[0m\u001b[0;34m\u001b[0m\u001b[0;34m\u001b[0m\u001b[0;34m\u001b[0m\u001b[0m\n\u001b[0;32m----> 4\u001b[0;31m \u001b[0;32mfor\u001b[0m \u001b[0mline\u001b[0m \u001b[0;32min\u001b[0m \u001b[0mopen\u001b[0m\u001b[0;34m(\u001b[0m\u001b[0mfname\u001b[0m\u001b[0;34m,\u001b[0m\u001b[0;34m\"r\"\u001b[0m\u001b[0;34m)\u001b[0m\u001b[0;34m:\u001b[0m\u001b[0;34m\u001b[0m\u001b[0;34m\u001b[0m\u001b[0m\n\u001b[0m\u001b[1;32m      5\u001b[0m     \u001b[0mmatch\u001b[0m\u001b[0;34m=\u001b[0m\u001b[0mre\u001b[0m\u001b[0;34m.\u001b[0m\u001b[0mfindall\u001b[0m\u001b[0;34m(\u001b[0m\u001b[0;34m\"\\d+\"\u001b[0m\u001b[0;34m,\u001b[0m \u001b[0mline\u001b[0m\u001b[0;34m)\u001b[0m\u001b[0;34m\u001b[0m\u001b[0;34m\u001b[0m\u001b[0m\n\u001b[1;32m      6\u001b[0m     \u001b[0;32mif\u001b[0m \u001b[0mmatch\u001b[0m\u001b[0;34m:\u001b[0m \u001b[0mprint\u001b[0m\u001b[0;34m(\u001b[0m\u001b[0mmatch\u001b[0m\u001b[0;34m)\u001b[0m\u001b[0;34m\u001b[0m\u001b[0;34m\u001b[0m\u001b[0m\n",
      "\u001b[0;31mFileNotFoundError\u001b[0m: [Errno 2] No such file or directory: 'mytest.txt'"
     ]
    }
   ],
   "source": [
    "fname=\"mytest.txt\"\n",
    "\n",
    "#this will read the file as a stream one line at a time, bound to the variable in the for loop iteration\n",
    "for line in open(fname,\"r\"):\n",
    "    match=re.findall(\"\\d+\", line)\n",
    "    if match: print(match)"
   ]
  },
  {
   "cell_type": "markdown",
   "metadata": {
    "id": "Ce_wFPPsOE-p"
   },
   "source": [
    "Finally, there are four usefull flags you can use to turn on different features in Python's implementation of regular expressions. \n",
    "- VERBOSE. Allow inline comments and extra whitespace.\n",
    "- IGNORECASE. Do case-insensitive matches.\n",
    "- DOTALL. Allow dot (.) to match any character, including a newline. (The default behavior of dot is to match anything, except for a newline.)\n",
    "- MULTILINE. Allow anchors (^ and $) to match the beginnings and ends of lines instead of matching the beginning and end of the whole text.\n",
    "\n",
    "They can be provided as flags to the re methods\n",
    "- re.match(\"this\", \"This\", flags=re.IGNORECASE)\n",
    "\n",
    "or as abbreviated flags\n",
    "- re.match(\"that\", \"That\", flags=re.I)\n",
    "\n",
    "or as inline flags in the regular expression itself\n",
    "- re.match(\"(?i)those\", \"Those\")\n"
   ]
  },
  {
   "cell_type": "markdown",
   "metadata": {
    "id": "ZourFUTZOE-p"
   },
   "source": [
    "## Practicing Regular Expressions\n",
    "\n",
    "You should now have a good enough understanding of how to use the regular expressions module in Python to undertake the rest of the tasks in the lab. You should refer to the full [Python regular expression documentation](https://docs.python.org/3/library/re.html)  for more detail.\n",
    "\n",
    "Note that so far we haven't needed to use multiline or raw Python strings, or verbose regular expressions. As things get more complex, you might need to.\n",
    "\n",
    "The following six tasks consist of three skills tasks and three application tasks. You should attempt all the skills tasks (1-3) to your satisfaction, and choose any of the application tasks (4-6) for general practice in using regular expressions to solve problems that require complex lexical analysis.\n",
    "\n",
    "Please note: there are no right answers set for these tasks - no specific precision or recall targets that you have to meet. The intention is that you focus on practicing the use of regular expressions, and gain experience with applying different kinds of \"patterns\" to a range of situations."
   ]
  },
  {
   "cell_type": "markdown",
   "metadata": {
    "id": "1DzYsKl9OE-q"
   },
   "source": [
    "## Task 1 - recognising specific lexical tokens\n",
    "Recognise the following particular kinds of non-word lexical tokens, using your experience to define the allowable format of each token type. Create your own test data files.\n",
    "\n",
    "1. Hashtags (which can contain alphanumeric characters, underscores and hyphens). Test on the text of some tweets that you copy and paste from twitter.com.\n",
    "1. UK Postcodes like SO17 1BJ or E1 8BN.\n",
    "1. UK style phone numbers like 023 80591234 or 02380 590000 or +44 (0) 23 80594479 or mobile numbers like 07722 175921.\n",
    "1. URLs http://google.com/ or https://a.b.net/c/d/e.php#fragment.\n",
    "1. Email addresses like lac@ecs.soton.ac.uk, and decompose into username and internet domain."
   ]
  },
  {
   "cell_type": "code",
   "execution_count": 34,
   "metadata": {
    "colab": {
     "base_uri": "https://localhost:8080/"
    },
    "id": "hemfOy7ZOE-q",
    "outputId": "491436b5-616f-4d1a-bd43-305db8786a50"
   },
   "outputs": [
    {
     "name": "stdout",
     "output_type": "stream",
     "text": [
      "match successful: #wetherspoons\n"
     ]
    }
   ],
   "source": [
    "#1: Hashtags\n",
    "\n",
    "#a hashtag is a hash character followed by any number of non space characters\n",
    "hashtagMatch = re.search(r\"#\\S+\",\"Having a lovely evening with my friends in #wetherspoons xxx\")\n",
    "#hashtagMatch = re.match(r\"^#\\S+$\", \"Having a lovely evening with my friends in #wetherspoons xxx\")\n",
    "if hashtagMatch:\n",
    "  #group 0 is the entirity of the expression that was matched\n",
    "  print(\"match successful: %s\" % hashtagMatch.group(0))"
   ]
  },
  {
   "cell_type": "code",
   "execution_count": 35,
   "metadata": {
    "colab": {
     "base_uri": "https://localhost:8080/"
    },
    "id": "8WyYhdo_XwVU",
    "outputId": "2ca3439c-201f-4f22-9566-4ea6ca76932c"
   },
   "outputs": [
    {
     "name": "stdout",
     "output_type": "stream",
     "text": [
      "Postcode matched: GU21 7RN\n",
      "Postcode matched: GU22 7UR\n",
      "Postcode matched: SO17 2HR\n",
      "Postcode matched: W13 0EB\n",
      "now going to test findall\n",
      "['GU21 7RN', 'GU22 7UR', 'SO17 2HR', 'W13 0EB']\n"
     ]
    }
   ],
   "source": [
    "#2: UK Postcodes like SO17 1BJ or E1 8BN\n",
    "\n",
    "#tested using findall aswell\n",
    "postcodes = [\"GU21 7RN\", \"GU22 7UR\", \"SO17 2HR\", \"W13 0EB\"]\n",
    "findAllStr = \"GU21 7RN  GU22 7UR  SO17 2HR   W13 0EB\"\n",
    "\n",
    "\n",
    "regex = r\"[A-Z]{1,2}\\d{2}\\s+\\d[A-Z]{2}\"\n",
    "\n",
    "for postcode in postcodes:\n",
    "\n",
    "  print(\"Postcode matched: %s\" % re.search(regex, postcode).group(0))\n",
    "\n",
    "print(\"now going to test findall\")\n",
    "print(re.findall(regex, findAllStr))"
   ]
  },
  {
   "cell_type": "code",
   "execution_count": 36,
   "metadata": {
    "id": "ckXKvWsUXwkr"
   },
   "outputs": [],
   "source": [
    "#3 UK style phone numbers like 023 80591234 02380590000 +44 (0) 23 80594479 or mobile numbers like 07722175921\n",
    "\n",
    "#Not clear what the hard and fast rule for the format of UK phone numbers is?"
   ]
  },
  {
   "cell_type": "code",
   "execution_count": 37,
   "metadata": {
    "colab": {
     "base_uri": "https://localhost:8080/"
    },
    "id": "g9kPMmVOXwpu",
    "outputId": "d933d4e3-7750-4e1b-96a3-3889ddc9aa56"
   },
   "outputs": [
    {
     "name": "stdout",
     "output_type": "stream",
     "text": [
      "going to test findall:  ['http://google.com', 'https://a.b.net/c/d/e.php#fragment']\n"
     ]
    }
   ],
   "source": [
    "#4 URLS\n",
    "\n",
    "#needs to be at least one name \"dot\" something e.g. google.com, followed by any number of alphanum strings seperated by /, . or #, then lookahead to see if there is \n",
    "#a space character which terminates the regular \n",
    "regex = r\"https?://[a-z0-9]+\\.[a-z]+(?:[#/\\.][a-z0-9]+)*\"\n",
    "urls = [\"http://google.com/ \", \"https://a.b.net/c/d/e.php#fragment \"]\n",
    "findAllStr = \"http://google.com/ https://a.b.net/c/d/e.php#fragment\"\n",
    "print(\"going to test findall: \", re.findall(regex, findAllStr))"
   ]
  },
  {
   "cell_type": "code",
   "execution_count": 38,
   "metadata": {
    "colab": {
     "base_uri": "https://localhost:8080/"
    },
    "id": "CT0UytDMXxL5",
    "outputId": "b7efda1a-03fe-4dc0-f4f2-ac6aa0fcc405"
   },
   "outputs": [
    {
     "name": "stdout",
     "output_type": "stream",
     "text": [
      "Email match successfull, username: gg2g17, domain: soton.ac.uk\n"
     ]
    }
   ],
   "source": [
    "#Email addressess\n",
    "\n",
    "#make sure to put the username and domain in capture groups so that we can access them\n",
    "#make sure to escape the dot character as we want to escape a literal dot\n",
    "emailMatch = re.search(r\"([a-z0-9]+)@([a-z]+(\\.[a-z]+)+)\", \"gg2g17@soton.ac.uk\")\n",
    "if emailMatch:\n",
    "  print(\"Email match successfull, username: %s, domain: %s\" % (emailMatch.group(1), emailMatch.group(2)))"
   ]
  },
  {
   "cell_type": "markdown",
   "metadata": {
    "id": "hv0aClSaOE-r"
   },
   "source": [
    "If that was too easy for you, look up the rules for the officially allowable formats of each token type in Wikipedia. Here for example, are the official UK postcode formats:\n",
    "\n",
    "| Format\t    | Coverage\t| Example |\n",
    "| -------:      | :--------:  | :------- |\n",
    "| AA9A 9AA\t| WC postcode area; EC1–EC4, NW1W, SE1P, SW1\t| EC1A 1BB |\n",
    "| A9A 9AA\t| E1, N1, W1\t| W1A 0AX |\n",
    "| A9 9AA\t| B, E, G, L, M, N, S, W\t| M1 1AE |\n",
    "| A99 9AA\t| \" | B33 8TH |\n",
    "| AA9 9AA\t| All other postcodes\t| CR2 6XH  |\n",
    "| AA99 9AA\t| \" | DN55 1PT |\n",
    "\n",
    "The rules for email adddresses are eye-watering!"
   ]
  },
  {
   "cell_type": "code",
   "execution_count": 1,
   "metadata": {
    "id": "BPhcXFeJlvIl"
   },
   "outputs": [],
   "source": [
    "#examples of useful os commands\n",
    "import os"
   ]
  },
  {
   "cell_type": "code",
   "execution_count": 2,
   "metadata": {
    "colab": {
     "base_uri": "https://localhost:8080/",
     "height": 35
    },
    "id": "6_qM27iQlxW1",
    "outputId": "5a45dd56-e3ad-4c39-8010-cce0980bf111"
   },
   "outputs": [
    {
     "data": {
      "text/plain": [
       "'/home/george/Documents/GitHub/COMP3225-NLP/src/lab1regex'"
      ]
     },
     "execution_count": 2,
     "metadata": {},
     "output_type": "execute_result"
    }
   ],
   "source": [
    "os.getcwd()"
   ]
  },
  {
   "cell_type": "code",
   "execution_count": 60,
   "metadata": {
    "id": "6aY0rdoCmUwZ"
   },
   "outputs": [],
   "source": [
    "os.chdir(\"Colab\")"
   ]
  },
  {
   "cell_type": "code",
   "execution_count": 5,
   "metadata": {
    "colab": {
     "base_uri": "https://localhost:8080/"
    },
    "id": "vR5O0yRFmZIr",
    "outputId": "f59ab43f-c406-454c-cbb1-3396b3575af2"
   },
   "outputs": [
    {
     "data": {
      "text/plain": [
       "['uk-weather-met-office-warns-of-storms-and-exceptional-rainfall.txt',\n",
       " 'richie-mawson-was-a-beloved-dad-and-liverpool-fan-did-a-late-lockdown-cost-him-his-life.txt',\n",
       " 'malta-may-demand-return-of-fossil-given-to-prince-george-by-david-attenborough.txt',\n",
       " 'face-mask-rules-more-political-than-scientific-says-expert.txt',\n",
       " 'stories-of-jobseekers-show-true-impact-of-covid-19-on-employment.txt',\n",
       " 'winchester-school-bus-crash-children-seriously-injured.txt',\n",
       " 'former-immigration-minister-criticises-use-of-barracks-to-house-asylum-seekers.txt',\n",
       " 'mixed-reactions-to-crowds-at-bournemouth.txt',\n",
       " 'ex-paratrooper-jumps-40m-from-helicopter-for-charity.txt',\n",
       " 'end-the-prejudice-against-travellers-police-chief.txt',\n",
       " 'oil-tanker-stormed-by-sbs-was-denied-port-access-by-france-and-spain.txt',\n",
       " 'weatherwatch-march-blizzard-england-surprise-1970.txt',\n",
       " 'authorities-failed-to-protect-hampshire-girl-lucy-mchugh-stabbed-to-death-by-abuser-review-finds.txt',\n",
       " 'woman-held-after-body-of-newborn-baby-found-near-southampton-hampshire.txt',\n",
       " 'five-fishermen-a-stormy-night-and-53m-of-cocaine-were-the-freshwater-five-wrongly-convicted.txt',\n",
       " 'gangs-still-forcing-children-into-county-lines-drug-trafficking-police-covid-19-lockdown.txt',\n",
       " 'police-cordons-to-stop-crowds-at-bournemouth-beach-amid-fears-of-heatwave.txt',\n",
       " 'distancing-rules-meant-crosscountry-rail-staff-didnt-spot-dead-man-for-five-hours.txt',\n",
       " 'scotland-to-keep-14-day-quarantine-for-travellers-from-spain.txt',\n",
       " 'court-overturns-mans-conviction-for-girlfriends-bestival-drug-death-louella-fletcher-michie-ceon-broughton.txt',\n",
       " 'uk-weather-temperatures-near-33c-on-hottest-day-of-year-so-far.txt',\n",
       " 'dorset-police-officer-timothy-brehmer-jailed-for-10-years-claire-parry-manslaughter.txt',\n",
       " 'how-coronavirus-restrictions-will-differ-around-the-uk-england-scotland-wales-northern-ireland.txt',\n",
       " 'electric-scooters-get-green-light-to-go-on-britains-public-roads.txt',\n",
       " 'first-british-rescue-flight-set-to-depart-as-part-of-75m-operation.txt',\n",
       " 'uk-weather-heatwave-to-continue-this-weekend-and-into-next-week.txt',\n",
       " 'children-of-azerbaijan-minister-eldar-mahmudov-built-up-100m-property-and-business-empire.txt',\n",
       " 'so-long-southsea-last-sultan-of-zanzibar-quits-uk-after-56-years-in-exile.txt',\n",
       " 'the-atmosphere-was-ugly-bournemouth-aghast-beach-chaos.txt',\n",
       " 'visors-nightingales-catching-coronaviurs-twice-your-covid-questions-answered.txt',\n",
       " 'beachgoers-warned-to-stay-safe-as-uk-braces-for-potential-heatwave.txt',\n",
       " 'uk-weather-thousands-without-electricity-as-storm-ciara-batters-britain-snow-ice.txt',\n",
       " 'girl-14-arrested-in-west-sussex-inquiry.txt',\n",
       " 'i-feel-useless-a-level-students-in-england-tell-of-their-disbelief-after-downgrades.txt',\n",
       " 'family-pays-tribute-to-hampshire-girl-killed-in-speedboat-accident.txt',\n",
       " 'shropshire-towns-in-flooding-danger-as-river-severn-rises.txt',\n",
       " 'london-likely-to-enter-tier-3-covid-restrictions-to-curb-surge-in-cases.txt',\n",
       " 'george-floyd-death-fuelled-anti-racism-protests-britain.txt',\n",
       " 'manual-workers-likelier-to-die-from-covid-19-than-professionals.txt',\n",
       " 'uk-weather-heatwave-thunderstorms-lightning-rain.txt',\n",
       " 'blustery-winds-and-bullying-soldiers-800-year-old-letter-from-pope-revealed.txt',\n",
       " 'digested-week-good-old-british-common-sense-has-people-besieging-the-beaches.txt',\n",
       " 'uk-weather-homes-flooded-as-70mph-winds-batter-nation-storm-francis.txt',\n",
       " 'tesco-worker-killed-wife-and-daughter-in-jealous-rage-court-told.txt',\n",
       " 'coronavirus-uk-live-news-praise-nhs-nurses-prime-minister-boris-johnson-latest-updates?page=with:block-5e941c8b8f08db3109f216d1.txt',\n",
       " 'a-nurse-a-taxi-driver-a-schoolchild-six-uk-lives-lost-to-covid-19-in-june.txt',\n",
       " 'rented-e-scooters-will-be-legal-from-saturday-says-uk-government.txt',\n",
       " 'toxic-hampshire-police-unit-recorded-racist-sexist-remarks-hearing-told.txt',\n",
       " 'tenby-wales-residents-feel-mixed-emotions-about-arrival-of-tourist-hoards-coronavirus.txt',\n",
       " 'dorset-police-officer-strangled-lover-after-she-revealed-affair-court-told.txt',\n",
       " 'british-pilot-charged-over-emiliano-sala-plane-crash-death.txt',\n",
       " 'teenager-stabbed-mother-more-than-100-times-inquest-told.txt',\n",
       " 'england-v-west-indies-third-test-day-one-live.txt',\n",
       " 'heavy-rainfall-prompts-flood-warnings-and-travel-disruptions-in-uk.txt',\n",
       " 'manchester-covid-restrictions-government-close-to-deal-says-jenrick.txt',\n",
       " 'police-urge-people-to-obey-covid-19-rules-over-sunny-weekend.txt',\n",
       " 'HH',\n",
       " 'louise-smith-trial-accused-admits-punching-her-in-face.txt',\n",
       " 'man-shot-dead-by-police-was-lawfully-killed-spencer-ashworth.txt',\n",
       " 'vigilantes-on-a-mission-to-reunite-owners-with-their-stolen-bikes.txt',\n",
       " 'storm-ciara-travel-chaos-flood-wind-rain-danger-uk-weather-live-latest-updates.txt',\n",
       " 'its-manic-that-way-seeking-a-slice-of-normality-on-southend-beach.txt',\n",
       " 'queens-birthday-honourees-in-the-arts-sport-politics-science.txt',\n",
       " 'artist-is-critically-wounded-in-hampshire-shooting-as-suspect-dies-in-chase.txt',\n",
       " 'met-police-break-up-london-illegal-parties-coronavirus.txt',\n",
       " 'seven-men-bailed-following-suspected-hijack-of-oil-tanker.txt',\n",
       " 'attempted-hijacking-of-oil-tanker-reported-off-isle-of-wight.txt',\n",
       " 'inquiry-blames-pilot-error-for-fatal-shetland-helicopter-crash.txt',\n",
       " 'girls-death-contributed-to-by-air-pollution-coroner-rules-in-landmark-case.txt',\n",
       " 'constable-charged-with-after-woman-dies-in-dorset-hospital.txt',\n",
       " 'chelsea-fan-jailed-for-attack-on-guardian-journalist-owen-jones.txt',\n",
       " 'uk-airlines-and-airports-told-not-to-expect-industry-wide-covid-19-bailout.txt',\n",
       " 'uk-coronavirus-large-areas-of-northern-england-put-back-in-lockdown-after-rise-in-cases?page=with:block-5f23b3a18f08bb96099b5d2e.txt',\n",
       " 'jaden-moodie-murdered-teenager-county-lines-exploitation-review.txt',\n",
       " 'thousands-attend--bradford-fire-memorial-archive-1985.txt',\n",
       " 'england-beaches-packed-despite-covid-19-social-distancing-plea.txt',\n",
       " 'storm-dennis-royal-navy-rnli-rescue-operation-kent-rain-snow-blizzard?page=with:block-5e47e8048f086a28115ac52c.txt',\n",
       " 'union-calls-for-cash-payment-ban-on-uk-buses-over-coronavirus.txt',\n",
       " 'uk-road-travel-falls-to-1955-levels-as-covid-19-lockdown-takes-hold-coronavirus-traffic.txt',\n",
       " 'storm-dennis-royal-navy-rnli-rescue-operation-kent-rain-snow-blizzard?page=with:block-5e47f7bd8f086a28115ac594.txt',\n",
       " 'how-one-couple-said-i-do-to-romantic-leap-year-traditions.txt',\n",
       " 'girl-16-louise-smith-brutally-murdered-by-aunts-husband-winchester-court-told.txt',\n",
       " 'uk-retail-sales-covid-19-alcohol-stock-markets-confidence-business-live.txt',\n",
       " 'disability-charity-boss-patrick-mclarry-jailed-after-stealing-from-pension-fund-yateley-industries-for-the-disabled.txt',\n",
       " 'police-vow-to-break-up-planned-anti-lockdown-protests-in-uk-cities.txt',\n",
       " 'seven-held-on-suspicion-of-trying-to-hijack-oil-tanker-off-isle-of-wight.txt',\n",
       " 'ZZ',\n",
       " 'dorset-police-officer-timothy-brehmer-cleared-of-murdering-lover-claire-parry-after-she-told-wife-of-affair.txt',\n",
       " 'uk-weather-storm-alex-batters-south-west-england-with-gale-force-winds.txt',\n",
       " 'XX',\n",
       " 'DD',\n",
       " 'YY',\n",
       " 'kelly-anne-case-man-convicted-of-savage.txt',\n",
       " 'china-strategic-threat-to-uk-as-northern-sea-route-clears-says-royal-navy-chief.txt',\n",
       " 'uk-weather-being-outdoors-could-become-dangerous-during-heatwaves.txt',\n",
       " 'coronavirus-uk-news-boris-johnson-says-public-health-is-the-priority-live-news?page=with:block-5ea56b948f08e05690dc4c69.txt',\n",
       " 'jealous-father-guilty-murdering-wife-daughter-salisbury-marcin-zdun.txt',\n",
       " 'explainer-what-is-article-16-of-the-northern-ireland-protocol.txt',\n",
       " 'areas-in-england-may-go-down-a-tier-before-christmas-says-robert-jenrick.txt',\n",
       " 'theyve-brushed-us-off-bournemouth-beach-hut-owners-lament-removal.txt',\n",
       " 'two-men-charged-over-alleged-isle-of-wight-oil-tanker-hijacking.txt',\n",
       " 'landsec-to-sell-almost-a-third-of-its-128bn-property-portfolio.txt',\n",
       " 'british-port-disruption-importers-call-for-urgent-inquiry-by-mps.txt',\n",
       " 'lukewarm-welcome-for-william-and-kate-in-royal-tour-of-scotland-and-wales.txt',\n",
       " 'jeremy-kyle-show-death-family-question-edited-footage-from-show.txt',\n",
       " 'planned-asylum-seeker-site-hampshire-village-open-prison-barton-stacey.txt',\n",
       " 'uk-coronavirus-live-boris-johnson-to-announce-covid-19-alert-system?page=with:block-5eb7f48e8f0858b1a81075d2.txt',\n",
       " 'scouts-founder-robert-baden-powell-statue-poole-storage-petition.txt',\n",
       " 'storm-bella-high-winds-add-to-flooding-chaos-across-uk.txt',\n",
       " 'uncle-jailed-over-of-teenager-louise-smith.txt',\n",
       " 'chancellor-announces-27bn-for-roadbuilding-in-budget.txt',\n",
       " 'police-to-step-up-patrols-amid-fears-of-chaos-as-english-pubs-reopen.txt',\n",
       " 'joan-hocquard-britains-oldest-person-dies-aged-112.txt',\n",
       " 'they-have-been-missed-cornwall-welcomes-first-summer-tourists.txt',\n",
       " 'thunderstorms-and-torrential-rain-to-follow-soaring-temperatures.txt',\n",
       " 'uk-plans-to-boost-cycling-and-walking-under-threat-from-loud-minority.txt',\n",
       " 'coroner-calls-for-investigation-into-toilet-fresheners-effect-on-childs-death.txt',\n",
       " 'northern-ireland-facing-food-supply-disruption-over-brexit-mps-told.txt',\n",
       " 'man-29-charged-with-of-hampshire-teenager-louise-smith.txt',\n",
       " 'titanic-plan-scrapped-retrieve-radio-distress-calls-ship-sank.txt',\n",
       " 'edward-colston-statue-retrieved-bristol-harbour-black-lives-matter.txt',\n",
       " 'dido-harding-profile-institute-health-protection.txt',\n",
       " 'girl-15-dies-in-speedboat-crash-near-southampton.txt']"
      ]
     },
     "execution_count": 5,
     "metadata": {},
     "output_type": "execute_result"
    }
   ],
   "source": [
    "os.listdir(rootDir)"
   ]
  },
  {
   "cell_type": "code",
   "execution_count": 4,
   "metadata": {
    "id": "Mdl6But0lPcq"
   },
   "outputs": [],
   "source": [
    "rootDir = \"guardian/ARTICLES.d/\""
   ]
  },
  {
   "cell_type": "markdown",
   "metadata": {
    "id": "vhr4G70dOE-r"
   },
   "source": [
    "## Task 2 - numeric tokens\n",
    "\n",
    "The zip file [guardian.zip](https://secure.ecs.soton.ac.uk/notes/comp3225/labs/guardian.zip) contains the text extracted from 118 Guardian news stories from the last year about Southampton, Portsmouth and Winchester. (One story per file, but you might like to combine them into a single file for ease of processing.) Starting from the regexp tokenizer example in Fig 2.12 (reproduced below), extend the set of tokens recognised to capture the following types of numeric data.\n",
    "- Numbers: -12  47.2  74,832,101\n",
    "- Time: 09:17pm\n",
    "- Money: £27.8m £8bn\n",
    "- Length: 6ft 48cm\n",
    "- Phone: +44(0)2380594479\n",
    "- Age specification: 13-year-old\n",
    "- Percentage: 14.4%\n",
    "- Temperature: 28C\n",
    "- Ordinals: 48th 22nd 1st\n",
    "\n",
    "You can compare your results with the [list of numeric tokens that I managed to extract](https://secure.ecs.soton.ac.uk/notes/comp3225/labs/guardian-numerics.txt). What’s the biggest financial quantity that appears in these stories? What did it relate to? What are the most common numeric tokens, and why do they appear?"
   ]
  },
  {
   "cell_type": "code",
   "execution_count": 62,
   "metadata": {},
   "outputs": [
    {
     "name": "stdout",
     "output_type": "stream",
     "text": [
      "<re.Match object; span=(10, 17), match='£27.8bn'>\n"
     ]
    }
   ],
   "source": [
    "#got the money pattern to work but cant get it to work as part of larger regex?\n",
    "\n",
    "res = re.search(r\"£\\d+(\\.\\d{1,3})?(?:m|k|bn)\", \"fasdfasfas£27.8bndfghdhgd\")\n",
    "print(res)"
   ]
  },
  {
   "cell_type": "code",
   "execution_count": 65,
   "metadata": {
    "id": "wTIh-mQMOE-r",
    "outputId": "a6f2f058-1dfb-4524-874e-89f05b0d90b0"
   },
   "outputs": [
    {
     "name": "stdout",
     "output_type": "stream",
     "text": [
      "['That', 'U.S.A.', 'poster-print', 'costs', '$12.40', '...', '-1,247.2', '-1,111.233', '09:17am', '27', '.', '8m']\n"
     ]
    }
   ],
   "source": [
    "import nltk\n",
    "\n",
    "text='That U.S.A. poster-print costs $12.40... -1,247.2 -1,111.233 09:17am £27.8m'\n",
    "\n",
    "#verbose regular expressions means whitespace is ignored unless escaped or in a [] group as shown below\n",
    "#and also allows you to add hash comments as shown below\n",
    "\n",
    "# The following pattern is reproduced from the textbook figure 2.12.\n",
    "# UNFORTUNATELY, the behaviour of NLTK has changed since version 3.1,\n",
    "# so that capture groups don't work any more and every set\n",
    "# of grouping parentheses () has now to explicitly declare non-capturing semantics with ?:\n",
    "pattern = r'''(?x)\t\t\t# set flag to allow verbose regexps \n",
    "\t \n",
    "     #force the comma seperated format, but force 2 decimals as this makes sense for money\n",
    "     #£\\d+(\\.\\d{1,3})?(?:m|k|bn)\n",
    "     \n",
    "     #time is easy!\n",
    "     \\d{2}:\\d{2}[ap]m \n",
    "     \n",
    "     | (?:[A-Z]\\.)+\t\t\t# abbreviations, e.g. U.S.A. \n",
    "\t | \\w+(?:-\\w+)*\t\t\t# words with optional internal hyphens \n",
    "\t | \\$?\\d+(?:\\.\\d+)?%?\t# currency and percentages, e.g. $12.40, 82% \n",
    "\t | \\.\\.\\.\t\t\t\t# ellipsis \n",
    "\t | [][.,;\"'?():-_`]\t\t# these are separate punctuation tokens; includes ], [ \n",
    "     \n",
    "     #numbers that comma seperate thousand bases and also allow for optional decimals\n",
    "     | -?\\d{1,3}(?=\\D)(?:,\\d{3})*(?:\\.\\d+)? \n",
    "     \n",
    "     #numbers that omit commas and allow for optional decimals\n",
    "     | -?\\d+(?:\\.\\d+)?\n",
    "     \n",
    "     \n",
    " \n",
    "     \n",
    "\t '''\n",
    "\n",
    "#nltk allows you to tokenize on spaces and then also match a regex on each token as you are tokenizing\n",
    "tokens=nltk.regexp_tokenize(text, pattern)\n",
    "print(tokens)"
   ]
  },
  {
   "cell_type": "markdown",
   "metadata": {
    "id": "68puwj1qOE-s"
   },
   "source": [
    "## Task 3 - lookahead and lookbehind assertions\n",
    "Use the lookaround capabilities to match the following (see the lookaround slide in lecture 3 as a start)\n",
    "- a password with at least 6 characters, containing 2 upper case letters, two digits and two punctuation marks\n",
    "- the above password, but it can't start with AB, ab, 01 or 12 to trap the really obvious abcd... and 1234... passwords\n",
    "- separate out the different components of a camelCase word (e.g. getElementById -> [get, Element, by, Id])\n",
    "-- Hint: identify each location where the previous character is lowercase and the next character is uppercase"
   ]
  },
  {
   "cell_type": "code",
   "execution_count": 82,
   "metadata": {
    "id": "4etzMq6JOE-s"
   },
   "outputs": [
    {
     "name": "stdout",
     "output_type": "stream",
     "text": [
      "<re.Match object; span=(0, 10), match='PA$$word13'>\n"
     ]
    }
   ],
   "source": [
    "#password task\n",
    "\n",
    "regex = r\"\"\"(?x)\n",
    "    (?!AB|ab|01|12)\n",
    "    (?=\\S{6})\n",
    "    (?=(.*[A-Z]){2})\n",
    "    (?=(.*[0-9]){2})\n",
    "    (?=(.*[!@#$%&]){2}) #lets suppose this is the set of punctuation marks for now\n",
    "    .*\n",
    "    \"\"\"\n",
    "string = \"PA$$word13\"\n",
    "\n",
    "result = re.match(regex, string)\n",
    "print(result)"
   ]
  },
  {
   "cell_type": "code",
   "execution_count": 105,
   "metadata": {},
   "outputs": [
    {
     "name": "stdout",
     "output_type": "stream",
     "text": [
      "['my', 'Camel', 'Case']\n"
     ]
    }
   ],
   "source": [
    "#if we look behind and see a lowercase letter or digit followed by an uppercase character, then this is a word\n",
    "#\"inside\" the camelcase, otherwise if we dont see a lowercase letter when we look behind then clearly we are \n",
    "#at the start of the camelcase so consume a lowercase alphanumeric string starting with an a-z letter\n",
    "regex = r\"\"\"(?x)\n",
    "    (?<=[a-z0-9])[A-Z][a-z0-9]+\n",
    "    | [a-z][a-z0-9]*\n",
    "    \"\"\"\n",
    "string = \" myCamelCase\"\n",
    "match = re.findall(regex, string)\n",
    "print(match)"
   ]
  },
  {
   "cell_type": "markdown",
   "metadata": {
    "id": "sckwC_3yOE-t"
   },
   "source": [
    "## Optional Task 4 - Analysing Lightbulb Jokes\n",
    "There were more than 10k lightbulb jokes told on Twitter in in 2015. Here are a couple of examples of the genre.\n",
    "- Q: How many thriller writers does it take to change a lightbulb? A: Two. One to screw it almost all the way in and another to give a surprising twist at the end.\n",
    "- Do you know how many folk musicians it takes to change a lightbulb? Five. One to change the lightbulb, and four to write songs about how much better the old bulb was.\n",
    "\n",
    "The standard pattern for the opening of a lightbulb joke is _How many X does it take to change a lightbulb?_\n",
    "\n",
    "The file [lightbulbs-2015.txt](https://secure.ecs.soton.ac.uk/notes/comp3225/labs/lightbulbs-2015.txt) contains one lightbulb joke tweet per line.\n",
    "Write a python code that uses regular expressions to isolates the topic X of each of the jokes and use it to produce a summary of the top 100 topics of lightbulb humour.\n",
    "- You should throw away the answers (punchlines) to the joke, just look for the topic\n",
    "- Hint: you will need to use trial and error to deal with variations in language, case and punctuation. You may want to test sets of regular expressions in an editor such as VI to allow you to see the coverage and special cases before you commit them to python code.\n",
    "- This is unmoderated Internet gathered data. Apologies for any inappropriate language that it might contain, or any examples of offensive humour. If you find anything that should be removed, please let me know.\n",
    "\n",
    "The file [lightbulbs-2020.txt](https://secure.ecs.soton.ac.uk/notes/comp3225/labs/lightbulbs-2020.txt) contains the same data for last year. Use the regular expressions you developed to generate a top 100 summary for 2020 and compare the two years. What significant changes in topics have there been between 2015 and 2020?"
   ]
  },
  {
   "cell_type": "code",
   "execution_count": 136,
   "metadata": {},
   "outputs": [
    {
     "ename": "AttributeError",
     "evalue": "'NoneType' object has no attribute 'group'",
     "output_type": "error",
     "traceback": [
      "\u001b[0;31m---------------------------------------------------------------------------\u001b[0m",
      "\u001b[0;31mAttributeError\u001b[0m                            Traceback (most recent call last)",
      "\u001b[0;32m<ipython-input-136-fdf489a26b0a>\u001b[0m in \u001b[0;36m<module>\u001b[0;34m\u001b[0m\n\u001b[1;32m      4\u001b[0m How many woman on their period does it take to change a lightbulb? 1. And 6 at A&E to remove the old one from your useless fucking arse\"\"\"\n\u001b[1;32m      5\u001b[0m \u001b[0mmatched\u001b[0m \u001b[0;34m=\u001b[0m \u001b[0mre\u001b[0m\u001b[0;34m.\u001b[0m\u001b[0mmatch\u001b[0m\u001b[0;34m(\u001b[0m\u001b[0mregex\u001b[0m\u001b[0;34m,\u001b[0m \u001b[0minp\u001b[0m\u001b[0;34m)\u001b[0m\u001b[0;34m\u001b[0m\u001b[0;34m\u001b[0m\u001b[0m\n\u001b[0;32m----> 6\u001b[0;31m \u001b[0mprint\u001b[0m\u001b[0;34m(\u001b[0m\u001b[0mmatched\u001b[0m\u001b[0;34m.\u001b[0m\u001b[0mgroup\u001b[0m\u001b[0;34m(\u001b[0m\u001b[0;36m1\u001b[0m\u001b[0;34m)\u001b[0m\u001b[0;34m)\u001b[0m\u001b[0;34m\u001b[0m\u001b[0;34m\u001b[0m\u001b[0m\n\u001b[0m",
      "\u001b[0;31mAttributeError\u001b[0m: 'NoneType' object has no attribute 'group'"
     ]
    }
   ],
   "source": [
    "#we are ONLY interested in the part that starts with how many, so throw away any parts before\n",
    "regex = r\".*[Hh]ow\\s+many\\s+(((?!does)[a-zA-Z]+\\s+)*)\"\n",
    "matched = re.match(regex, inp)\n",
    "print(matched.group(1))"
   ]
  },
  {
   "cell_type": "code",
   "execution_count": null,
   "metadata": {
    "id": "hm_ourU6OE-t",
    "outputId": "662314e7-77f8-4510-a6b5-c81ffe59e9c8"
   },
   "outputs": [
    {
     "name": "stdout",
     "output_type": "stream",
     "text": [
      "The regexp matched 0 jokes out of 10042\n"
     ]
    }
   ],
   "source": [
    "#download the file beforehand\n",
    "fname=\"lightbulbs.txt\"\n",
    "\n",
    "#make the right regular expression to isolate just the topic\n",
    "pattern=r\"How\\s+many\\s+(((?!does)[a-zA-Z]\\s+)*)\"\n",
    "\n",
    "\n",
    "\n",
    "lineN=0; matchN=0\n",
    "for line in open(fname,\"r\"):\n",
    "    lineN+=1\n",
    "    match=re.search(pattern, line)\n",
    "    if match:\n",
    "        matchN+=1\n",
    "        print(match.group(1))\n",
    "print(\"The regexp matched %s jokes out of %s\" % (matchN, lineN)) \n",
    "\n",
    "#now go on and do the analysis"
   ]
  },
  {
   "cell_type": "markdown",
   "metadata": {
    "id": "1VksbT48OE-u"
   },
   "source": [
    "## Optional Task 5 - citations\n",
    "\n",
    "The file [thesis.txt](https://secure.ecs.soton.ac.uk/notes/comp3225/labs/citations-thesis.txt) contains the text of a PhD thesis. The examiner wants to know how many papers the student has cited, and of those, how many are “recent” (i.e. from the last decade).\n",
    "The bibliographic style used means that citations appear in the text with the basic form (surnames year), and you can see examples of this as they appear in the PDF <img src=\"https://secure.ecs.soton.ac.uk/notes/comp3225/labs/citations-sample.png\" width=\"400\">\n",
    "\n",
    "Write regular expressions to extract the list of citations from the thesis, answering the examiner's questions above."
   ]
  },
  {
   "cell_type": "code",
   "execution_count": null,
   "metadata": {
    "id": "Bzxufi_AOE-u"
   },
   "outputs": [],
   "source": [
    "#code"
   ]
  },
  {
   "cell_type": "markdown",
   "metadata": {
    "id": "zjKUcbO2OE-u"
   },
   "source": [
    "### Optional Task 6 - ELIZA\n",
    "\n",
    "ELIZA was an early natural language processing computer program created in 1964 (the year I was born) at the MIT Artificial Intelligence Laboratory and created to demonstrate superficial communication techniques (OMG - it's like we're twins).\n",
    "\n",
    "Eliza simulated conversation by using a \"pattern matching\" and substitution methodology that gave users an illusion of understanding on the part of the program. Famously ELIZA simulated a style of psychotherapist, well-known for simply parroting back at patients what they had just said, and used rules to respond with non-directional questions to user inputs. As such, ELIZA was one of the first chatterbots and one of the first programs capable of attempting the Turing test.\n",
    "\n",
    "You should implement an ELIZA-like conversational program, using substitutions such as those described on page 11 in the text book."
   ]
  },
  {
   "cell_type": "code",
   "execution_count": null,
   "metadata": {
    "id": "liCrWh4COE-v"
   },
   "outputs": [],
   "source": [
    "#code"
   ]
  }
 ],
 "metadata": {
  "colab": {
   "collapsed_sections": [],
   "name": "comp3225_lab_regexp.ipynb",
   "provenance": []
  },
  "kernelspec": {
   "display_name": "Python 3",
   "language": "python",
   "name": "python3"
  },
  "language_info": {
   "codemirror_mode": {
    "name": "ipython",
    "version": 3
   },
   "file_extension": ".py",
   "mimetype": "text/x-python",
   "name": "python",
   "nbconvert_exporter": "python",
   "pygments_lexer": "ipython3",
   "version": "3.8.3"
  }
 },
 "nbformat": 4,
 "nbformat_minor": 1
}
