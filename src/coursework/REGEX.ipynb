{
 "cells": [
  {
   "cell_type": "code",
   "execution_count": 105,
   "metadata": {},
   "outputs": [],
   "source": [
    "chapter_str = \"\"\n",
    "book_str = \"\"\n",
    "\n",
    "with open(\"eval_chapter.txt\", \"r\") as f:\n",
    "    chapter_str = f.read()\n",
    "\n",
    "with open(\"eval_book.txt\", \"r\") as f:\n",
    "    book_str = f.read()"
   ]
  },
  {
   "cell_type": "code",
   "execution_count": 140,
   "metadata": {},
   "outputs": [],
   "source": [
    "def extract_toc(chapter_str):\n",
    "    \n",
    "    chapter = r\"(?:CHAPTER|(C|c)hapter)\"\n",
    "    \n",
    "    #either roman numerals or a digit\n",
    "    num = r\"([ivxlcdm]+|[IVXLCDM]+|\\d+)\"\n",
    "    \n",
    "    #the charcters which have been seen to appear in titles I've looked at\n",
    "    #OR match any non-ASCII character (i.e. the special unicode apostraphes\n",
    "    #that often appear)\n",
    "    #chset = r\"(?:[A-Za-z0-9\\?\\-\\.\\'\\\":“”’ ]|[^\\x00-\\x7F])\"\n",
    "    chset = \"[^\\n]\"\n",
    "    \n",
    "    regex = \"\".join([\n",
    "        chapter, r\"[ ]*\", num, r\"[ ]*\\.?[ ]*\\n*[ ]*\",\n",
    "        r\"([A-Za-z]\", chset, \"*)\"\n",
    "    ])\n",
    "    \n",
    "    return [mobj for mobj in re.finditer(regex, chapter_str)]"
   ]
  },
  {
   "cell_type": "code",
   "execution_count": 130,
   "metadata": {},
   "outputs": [],
   "source": [
    "#Given an entire chapter that has been read as a string, \n",
    "#extract all questions from it\n",
    "def extract_questions(chapter_str):\n",
    "    \n",
    "    #Start with a capital letter, any number of non-sentence ending characters followed by a question mark\n",
    "    regex = r\"(?:(?<=([‘“\\\"\\'\\.\\?\\!]))[ ]*)([A-Z][^\\?\\.!]*\\?)\"\n",
    "    matches = re.findall(regex, chapter_str, flags = re.MULTILINE | re.DOTALL | re.UNICODE)\n",
    "    return [match.replace('\\n', ' ') for _, match in matches]"
   ]
  },
  {
   "cell_type": "code",
   "execution_count": 146,
   "metadata": {},
   "outputs": [
    {
     "data": {
      "text/plain": [
       "[(None, '1', 'I AM BORN'),\n",
       " (None, '2', 'I OBSERVE'),\n",
       " (None, '3', 'I HAVE A CHANGE'),\n",
       " (None, '4', 'I FALL INTO DISGRACE'),\n",
       " (None, '5', 'I AM SENT AWAY FROM HOME'),\n",
       " (None, '6', 'I ENLARGE MY CIRCLE OF ACQUAINTANCE'),\n",
       " (None, '7', 'MY ‘FIRST HALF’ AT SALEM HOUSE'),\n",
       " (None, '8', 'MY HOLIDAYS. ESPECIALLY ONE HAPPY AFTERNOON'),\n",
       " (None, '9', 'I HAVE A MEMORABLE BIRTHDAY'),\n",
       " (None, '10', 'I BECOME NEGLECTED, AND AM PROVIDED FOR'),\n",
       " (None, '11', 'I BEGIN LIFE ON MY OWN ACCOUNT, AND DON’T LIKE IT'),\n",
       " (None,\n",
       "  '12',\n",
       "  'LIKING LIFE ON MY OWN ACCOUNT NO BETTER, I FORM A GREAT RESOLUTION'),\n",
       " (None, '13', 'THE SEQUEL OF MY RESOLUTION'),\n",
       " (None, '14', 'MY AUNT MAKES UP HER MIND ABOUT ME'),\n",
       " (None, '15', 'I MAKE ANOTHER BEGINNING'),\n",
       " (None, '16', 'I AM A NEW BOY IN MORE SENSES THAN ONE'),\n",
       " (None, '17', 'SOMEBODY TURNS UP'),\n",
       " (None, '18', 'A RETROSPECT'),\n",
       " (None, '19', 'I LOOK ABOUT ME, AND MAKE A DISCOVERY'),\n",
       " (None, '20', 'STEERFORTH’S HOME'),\n",
       " (None, '21', 'LITTLE EM’LY'),\n",
       " (None, '22', 'SOME OLD SCENES, AND SOME NEW PEOPLE'),\n",
       " (None, '23', 'I CORROBORATE Mr. DICK, AND CHOOSE A PROFESSION'),\n",
       " (None, '24', 'MY FIRST DISSIPATION'),\n",
       " (None, '25', 'GOOD AND BAD ANGELS'),\n",
       " (None, '26', 'I FALL INTO CAPTIVITY'),\n",
       " (None, '27', 'TOMMY TRADDLES'),\n",
       " (None, '28', 'Mr. MICAWBER’S GAUNTLET'),\n",
       " (None, '29', 'I VISIT STEERFORTH AT HIS HOME, AGAIN'),\n",
       " (None, '30', 'A LOSS'),\n",
       " (None, '31', 'A GREATER LOSS'),\n",
       " (None, '32', 'THE BEGINNING OF A LONG JOURNEY'),\n",
       " (None, '33', 'BLISSFUL'),\n",
       " (None, '34', 'MY AUNT ASTONISHES ME'),\n",
       " (None, '35', 'DEPRESSION'),\n",
       " (None, '36', 'ENTHUSIASM'),\n",
       " (None, '37', 'A LITTLE COLD WATER'),\n",
       " (None, '38', 'A DISSOLUTION OF PARTNERSHIP'),\n",
       " (None, '39', 'WICKFIELD AND HEEP'),\n",
       " (None, '40', 'THE WANDERER'),\n",
       " (None, '41', 'DORA’S AUNTS'),\n",
       " (None, '42', 'MISCHIEF'),\n",
       " (None, '43', 'ANOTHER RETROSPECT'),\n",
       " (None, '44', 'OUR HOUSEKEEPING'),\n",
       " (None, '45', 'MR. DICK FULFILS MY AUNT’S PREDICTIONS'),\n",
       " (None, '46', 'INTELLIGENCE'),\n",
       " (None, '47', 'MARTHA'),\n",
       " (None, '48', 'DOMESTIC'),\n",
       " (None, '49', 'I AM INVOLVED IN MYSTERY'),\n",
       " (None, '50', 'Mr. PEGGOTTY’S DREAM COMES TRUE'),\n",
       " (None, '51', 'THE BEGINNING OF A LONGER JOURNEY'),\n",
       " (None, '52', 'I ASSIST AT AN EXPLOSION'),\n",
       " (None, '53', 'ANOTHER RETROSPECT'),\n",
       " (None, '54', 'Mr. MICAWBER’S TRANSACTIONS'),\n",
       " (None, '55', 'TEMPEST'),\n",
       " (None, '56', 'THE NEW WOUND, AND THE OLD'),\n",
       " (None, '57', 'THE EMIGRANTS'),\n",
       " (None, '58', 'ABSENCE'),\n",
       " (None, '59', 'RETURN'),\n",
       " (None, '60', 'AGNES'),\n",
       " (None, '61', 'I AM SHOWN TWO INTERESTING PENITENTS'),\n",
       " (None, '62', 'A LIGHT SHINES ON MY WAY'),\n",
       " (None, '63', 'A VISITOR'),\n",
       " (None, '64', 'A LAST RETROSPECT')]"
      ]
     },
     "execution_count": 146,
     "metadata": {},
     "output_type": "execute_result"
    }
   ],
   "source": [
    "results = extract_toc(book_str)\n",
    "[result.groups() for result in results]"
   ]
  },
  {
   "cell_type": "code",
   "execution_count": 142,
   "metadata": {},
   "outputs": [
    {
     "data": {
      "text/plain": [
       "(None, '1', 'I AM BORN')"
      ]
     },
     "execution_count": 142,
     "metadata": {},
     "output_type": "execute_result"
    }
   ],
   "source": [
    "results[0].groups()"
   ]
  },
  {
   "cell_type": "code",
   "execution_count": 143,
   "metadata": {},
   "outputs": [],
   "source": [
    "titles = [title for _, _, title in map(lambda res: res.groups(), results)]"
   ]
  },
  {
   "cell_type": "code",
   "execution_count": 144,
   "metadata": {},
   "outputs": [
    {
     "data": {
      "text/plain": [
       "['I AM BORN',\n",
       " 'I OBSERVE',\n",
       " 'I HAVE A CHANGE',\n",
       " 'I FALL INTO DISGRACE',\n",
       " 'I AM SENT AWAY FROM HOME',\n",
       " 'I ENLARGE MY CIRCLE OF ACQUAINTANCE',\n",
       " 'MY ‘FIRST HALF’ AT SALEM HOUSE',\n",
       " 'MY HOLIDAYS. ESPECIALLY ONE HAPPY AFTERNOON',\n",
       " 'I HAVE A MEMORABLE BIRTHDAY',\n",
       " 'I BECOME NEGLECTED, AND AM PROVIDED FOR',\n",
       " 'I BEGIN LIFE ON MY OWN ACCOUNT, AND DON’T LIKE IT',\n",
       " 'LIKING LIFE ON MY OWN ACCOUNT NO BETTER, I FORM A GREAT RESOLUTION',\n",
       " 'THE SEQUEL OF MY RESOLUTION',\n",
       " 'MY AUNT MAKES UP HER MIND ABOUT ME',\n",
       " 'I MAKE ANOTHER BEGINNING',\n",
       " 'I AM A NEW BOY IN MORE SENSES THAN ONE',\n",
       " 'SOMEBODY TURNS UP',\n",
       " 'A RETROSPECT',\n",
       " 'I LOOK ABOUT ME, AND MAKE A DISCOVERY',\n",
       " 'STEERFORTH’S HOME',\n",
       " 'LITTLE EM’LY',\n",
       " 'SOME OLD SCENES, AND SOME NEW PEOPLE',\n",
       " 'I CORROBORATE Mr. DICK, AND CHOOSE A PROFESSION',\n",
       " 'MY FIRST DISSIPATION',\n",
       " 'GOOD AND BAD ANGELS',\n",
       " 'I FALL INTO CAPTIVITY',\n",
       " 'TOMMY TRADDLES',\n",
       " 'Mr. MICAWBER’S GAUNTLET',\n",
       " 'I VISIT STEERFORTH AT HIS HOME, AGAIN',\n",
       " 'A LOSS',\n",
       " 'A GREATER LOSS',\n",
       " 'THE BEGINNING OF A LONG JOURNEY',\n",
       " 'BLISSFUL',\n",
       " 'MY AUNT ASTONISHES ME',\n",
       " 'DEPRESSION',\n",
       " 'ENTHUSIASM',\n",
       " 'A LITTLE COLD WATER',\n",
       " 'A DISSOLUTION OF PARTNERSHIP',\n",
       " 'WICKFIELD AND HEEP',\n",
       " 'THE WANDERER',\n",
       " 'DORA’S AUNTS',\n",
       " 'MISCHIEF',\n",
       " 'ANOTHER RETROSPECT',\n",
       " 'OUR HOUSEKEEPING',\n",
       " 'MR. DICK FULFILS MY AUNT’S PREDICTIONS',\n",
       " 'INTELLIGENCE',\n",
       " 'MARTHA',\n",
       " 'DOMESTIC',\n",
       " 'I AM INVOLVED IN MYSTERY',\n",
       " 'Mr. PEGGOTTY’S DREAM COMES TRUE',\n",
       " 'THE BEGINNING OF A LONGER JOURNEY',\n",
       " 'I ASSIST AT AN EXPLOSION',\n",
       " 'ANOTHER RETROSPECT',\n",
       " 'Mr. MICAWBER’S TRANSACTIONS',\n",
       " 'TEMPEST',\n",
       " 'THE NEW WOUND, AND THE OLD',\n",
       " 'THE EMIGRANTS',\n",
       " 'ABSENCE',\n",
       " 'RETURN',\n",
       " 'AGNES',\n",
       " 'I AM SHOWN TWO INTERESTING PENITENTS',\n",
       " 'A LIGHT SHINES ON MY WAY',\n",
       " 'A VISITOR',\n",
       " 'A LAST RETROSPECT']"
      ]
     },
     "execution_count": 144,
     "metadata": {},
     "output_type": "execute_result"
    }
   ],
   "source": [
    "titles"
   ]
  },
  {
   "cell_type": "code",
   "execution_count": null,
   "metadata": {},
   "outputs": [],
   "source": []
  }
 ],
 "metadata": {
  "kernelspec": {
   "display_name": "Python 3",
   "language": "python",
   "name": "python3"
  },
  "language_info": {
   "codemirror_mode": {
    "name": "ipython",
    "version": 3
   },
   "file_extension": ".py",
   "mimetype": "text/x-python",
   "name": "python",
   "nbconvert_exporter": "python",
   "pygments_lexer": "ipython3",
   "version": "3.8.3"
  }
 },
 "nbformat": 4,
 "nbformat_minor": 4
}
