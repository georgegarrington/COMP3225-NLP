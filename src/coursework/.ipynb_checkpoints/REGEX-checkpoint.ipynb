{
 "cells": [
  {
   "cell_type": "code",
   "execution_count": 1,
   "metadata": {},
   "outputs": [],
   "source": [
    "chapter_str = \"eval_chapter.txt\"\n",
    "book_str = \"eval_book.txt\"\n",
    "\n",
    "with open(\"eval_chapter.txt\", \"r\") as f:\n",
    "    chapter_str = f.read()\n",
    "\n",
    "with open(\"eval_book.txt\", \"r\") as f:\n",
    "    book_str = f.read()"
   ]
  },
  {
   "cell_type": "code",
   "execution_count": 5,
   "metadata": {},
   "outputs": [],
   "source": [
    "import re"
   ]
  },
  {
   "cell_type": "code",
   "execution_count": 67,
   "metadata": {},
   "outputs": [],
   "source": [
    "def extract_toc2(chapter_str):\n",
    "    \n",
    "    chapter = r\"(?:CHAPTER|(?:C|c)hapter)\"\n",
    "    num = r\"([ivxlcdm]+|[IVXLCDM]+|\\d+)\"\n",
    "    \n",
    "    regex = \"\".join([\n",
    "        \n",
    "        #chapter marker\n",
    "        chapter, \n",
    "        \n",
    "        #space between chapter and number\n",
    "        r\"[ ]*\", \n",
    "        \n",
    "        #chapter number identifier\n",
    "        num, \n",
    "        \n",
    "        #space between number then possibly a '.' symbol\n",
    "        r\"[ ]*\\.?[ ]*\",\n",
    "        \n",
    "        #newline followed by not a new line or a non-new line character forming\n",
    "        #part of the title, to allow for it to span across multiple lines\n",
    "        #r\"((?:(?:\\n(?:?!\\n))|.)*)\", \n",
    "        \n",
    "        r\".*\"\n",
    "        \n",
    "        #end of a chapter is new line followed by (probably not) \n",
    "        #whitespace followed by newline, or another chapter keyword\n",
    "        r\"(?=(?:CHAPTER|(?:C|c)hapter)|\\n\\n)\"\n",
    "    ])\n",
    "    \n",
    "    return list(re.findall(\"CHAPTER 1.\", chapter_str))\n",
    "    #return [mobj for mobj in re.finditer(regex, chapter_str)]\n",
    "    #return [mob for mobj in re.finditer(regex, chapter_str)]"
   ]
  },
  {
   "cell_type": "code",
   "execution_count": 68,
   "metadata": {},
   "outputs": [],
   "source": [
    "result = extract_toc2(chapter_str)"
   ]
  },
  {
   "cell_type": "code",
   "execution_count": 69,
   "metadata": {},
   "outputs": [
    {
     "data": {
      "text/plain": [
       "[]"
      ]
     },
     "execution_count": 69,
     "metadata": {},
     "output_type": "execute_result"
    }
   ],
   "source": [
    "result"
   ]
  },
  {
   "cell_type": "code",
   "execution_count": 154,
   "metadata": {},
   "outputs": [],
   "source": [
    "def extract_toc(chapter_str):\n",
    "    \n",
    "    chapter = r\"(?:CHAPTER|(C|c)hapter)\"\n",
    "    \n",
    "    #either roman numerals or a digit\n",
    "    num = r\"([ivxlcdm]+|[IVXLCDM]+|\\d+)\"\n",
    "    \n",
    "    #the charcters which have been seen to appear in titles I've looked at\n",
    "    #OR match any non-ASCII character (i.e. the special unicode apostraphes\n",
    "    #that often appear)\n",
    "    #chset = r\"(?:[A-Za-z0-9\\?\\-\\.\\'\\\":“”’ ]|[^\\x00-\\x7F])\"\n",
    "    chset = \"[^\\n]\"\n",
    "    \n",
    "    regex = \"\".join([\n",
    "        chapter, r\"[ ]*\", num, r\"[ ]*\\.?[ ]*\\n*[ ]*\",\n",
    "        r\"([A-Za-z]\", chset, \"*)\"\n",
    "    ])\n",
    "    \n",
    "    return {\n",
    "        mobj.groups()[1] : mobj.groups()[2] \n",
    "        for mobj in re.finditer(regex, chapter_str)\n",
    "    }"
   ]
  },
  {
   "cell_type": "code",
   "execution_count": 166,
   "metadata": {},
   "outputs": [],
   "source": [
    "#Given an entire chapter that has been read as a string, \n",
    "#extract all questions from it\n",
    "def extract_questions(chapter_str):\n",
    "    \n",
    "    #Start with a capital letter, any number of non-sentence ending characters followed by a question mark\n",
    "    regex = r\"(?:(?<=([‘“\\\"\\'\\.\\?\\!]))[ ]*)([A-Z][^\\?\\.!]*\\?)\"\n",
    "    matches = re.findall(regex, chapter_str, flags = re.MULTILINE | re.DOTALL | re.UNICODE)\n",
    "    return set(match.replace('\\n', ' ') for _, match in matches)"
   ]
  },
  {
   "cell_type": "code",
   "execution_count": 162,
   "metadata": {},
   "outputs": [
    {
     "data": {
      "text/plain": [
       "{'1': 'I AM BORN',\n",
       " '2': 'I OBSERVE',\n",
       " '3': 'I HAVE A CHANGE',\n",
       " '4': 'I FALL INTO DISGRACE',\n",
       " '5': 'I AM SENT AWAY FROM HOME',\n",
       " '6': 'I ENLARGE MY CIRCLE OF ACQUAINTANCE',\n",
       " '7': 'MY ‘FIRST HALF’ AT SALEM HOUSE',\n",
       " '8': 'MY HOLIDAYS. ESPECIALLY ONE HAPPY AFTERNOON',\n",
       " '9': 'I HAVE A MEMORABLE BIRTHDAY',\n",
       " '10': 'I BECOME NEGLECTED, AND AM PROVIDED FOR',\n",
       " '11': 'I BEGIN LIFE ON MY OWN ACCOUNT, AND DON’T LIKE IT',\n",
       " '12': 'LIKING LIFE ON MY OWN ACCOUNT NO BETTER, I FORM A GREAT RESOLUTION',\n",
       " '13': 'THE SEQUEL OF MY RESOLUTION',\n",
       " '14': 'MY AUNT MAKES UP HER MIND ABOUT ME',\n",
       " '15': 'I MAKE ANOTHER BEGINNING',\n",
       " '16': 'I AM A NEW BOY IN MORE SENSES THAN ONE',\n",
       " '17': 'SOMEBODY TURNS UP',\n",
       " '18': 'A RETROSPECT',\n",
       " '19': 'I LOOK ABOUT ME, AND MAKE A DISCOVERY',\n",
       " '20': 'STEERFORTH’S HOME',\n",
       " '21': 'LITTLE EM’LY',\n",
       " '22': 'SOME OLD SCENES, AND SOME NEW PEOPLE',\n",
       " '23': 'I CORROBORATE Mr. DICK, AND CHOOSE A PROFESSION',\n",
       " '24': 'MY FIRST DISSIPATION',\n",
       " '25': 'GOOD AND BAD ANGELS',\n",
       " '26': 'I FALL INTO CAPTIVITY',\n",
       " '27': 'TOMMY TRADDLES',\n",
       " '28': 'Mr. MICAWBER’S GAUNTLET',\n",
       " '29': 'I VISIT STEERFORTH AT HIS HOME, AGAIN',\n",
       " '30': 'A LOSS',\n",
       " '31': 'A GREATER LOSS',\n",
       " '32': 'THE BEGINNING OF A LONG JOURNEY',\n",
       " '33': 'BLISSFUL',\n",
       " '34': 'MY AUNT ASTONISHES ME',\n",
       " '35': 'DEPRESSION',\n",
       " '36': 'ENTHUSIASM',\n",
       " '37': 'A LITTLE COLD WATER',\n",
       " '38': 'A DISSOLUTION OF PARTNERSHIP',\n",
       " '39': 'WICKFIELD AND HEEP',\n",
       " '40': 'THE WANDERER',\n",
       " '41': 'DORA’S AUNTS',\n",
       " '42': 'MISCHIEF',\n",
       " '43': 'ANOTHER RETROSPECT',\n",
       " '44': 'OUR HOUSEKEEPING',\n",
       " '45': 'MR. DICK FULFILS MY AUNT’S PREDICTIONS',\n",
       " '46': 'INTELLIGENCE',\n",
       " '47': 'MARTHA',\n",
       " '48': 'DOMESTIC',\n",
       " '49': 'I AM INVOLVED IN MYSTERY',\n",
       " '50': 'Mr. PEGGOTTY’S DREAM COMES TRUE',\n",
       " '51': 'THE BEGINNING OF A LONGER JOURNEY',\n",
       " '52': 'I ASSIST AT AN EXPLOSION',\n",
       " '53': 'ANOTHER RETROSPECT',\n",
       " '54': 'Mr. MICAWBER’S TRANSACTIONS',\n",
       " '55': 'TEMPEST',\n",
       " '56': 'THE NEW WOUND, AND THE OLD',\n",
       " '57': 'THE EMIGRANTS',\n",
       " '58': 'ABSENCE',\n",
       " '59': 'RETURN',\n",
       " '60': 'AGNES',\n",
       " '61': 'I AM SHOWN TWO INTERESTING PENITENTS',\n",
       " '62': 'A LIGHT SHINES ON MY WAY',\n",
       " '63': 'A VISITOR',\n",
       " '64': 'A LAST RETROSPECT'}"
      ]
     },
     "execution_count": 162,
     "metadata": {},
     "output_type": "execute_result"
    }
   ],
   "source": [
    "results = extract_toc(book_str)\n",
    "results"
   ]
  },
  {
   "cell_type": "code",
   "execution_count": 167,
   "metadata": {},
   "outputs": [
    {
     "data": {
      "text/plain": [
       "{'And another shilling or so in biscuits, and another in fruit, eh?',\n",
       " 'Do YOU know me?',\n",
       " 'Do you want to spend anything now?',\n",
       " 'Has that fellow’--to the man with the wooden leg--‘been here again?',\n",
       " 'He introduced himself by informing me that I should find his name on the right-hand corner of the gate, over the top-bolt; upon that I said, ‘Traddles?',\n",
       " 'Hey?',\n",
       " 'Not yet?',\n",
       " 'Perhaps you’d like to spend a couple of shillings or so, in a bottle of currant wine by and by, up in the bedroom?',\n",
       " 'What money have you got, Copperfield?',\n",
       " 'What’s the report of this boy?',\n",
       " 'What’s this?',\n",
       " 'You haven’t got a sister, have you?',\n",
       " 'You’ll be glad to spend another shilling or so, in almond cakes, I dare say?'}"
      ]
     },
     "execution_count": 167,
     "metadata": {},
     "output_type": "execute_result"
    }
   ],
   "source": [
    "questions = extract_questions(chapter_str)\n",
    "questions"
   ]
  },
  {
   "cell_type": "code",
   "execution_count": null,
   "metadata": {},
   "outputs": [],
   "source": []
  }
 ],
 "metadata": {
  "kernelspec": {
   "display_name": "Python 3",
   "language": "python",
   "name": "python3"
  },
  "language_info": {
   "codemirror_mode": {
    "name": "ipython",
    "version": 3
   },
   "file_extension": ".py",
   "mimetype": "text/x-python",
   "name": "python",
   "nbconvert_exporter": "python",
   "pygments_lexer": "ipython3",
   "version": "3.8.3"
  }
 },
 "nbformat": 4,
 "nbformat_minor": 4
}
