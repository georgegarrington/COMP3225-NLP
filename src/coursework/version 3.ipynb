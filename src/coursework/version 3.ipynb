{
 "cells": [
  {
   "cell_type": "code",
   "execution_count": null,
   "metadata": {},
   "outputs": [],
   "source": [
    "#Takes the whole book that has been read as a string and generates\n",
    "#the dictionary needed\n",
    "def task1(book_str):\n",
    "    "
   ]
  },
  {
   "cell_type": "code",
   "execution_count": null,
   "metadata": {},
   "outputs": [],
   "source": [
    "#Takes the chapter that has been read as a string and extracts all \n",
    "#questions from it into the required set\n",
    "def task2(chapter_str):"
   ]
  },
  {
   "cell_type": "code",
   "execution_count": null,
   "metadata": {},
   "outputs": [],
   "source": [
    "#Tasks 3 and 4 are sort of linked so MAYBE handling all their initialisation\n",
    "#stuff make more sense within a single function? Not sure, leave here for now\n",
    "\n",
    "#def init_NER(chapter_str):"
   ]
  },
  {
   "cell_type": "code",
   "execution_count": null,
   "metadata": {},
   "outputs": [],
   "source": [
    "#Takes the chapter that has been read as a string and finds the \n",
    "#NER entitites listed in the task 3 spec, generating a dictionary\n",
    "#containing these that the names found in task 4 can then be \n",
    "#injected into\n",
    "def task3(chapter_str):\n",
    "    "
   ]
  },
  {
   "cell_type": "code",
   "execution_count": null,
   "metadata": {},
   "outputs": [],
   "source": [
    "#Takes the chapter that has been read as a string and finds the names\n",
    "#of all characters, returning a list that can be put into the task 3/4\n",
    "#dictionary writer\n",
    "def task4(chapter_str):\n",
    "    "
   ]
  },
  {
   "cell_type": "code",
   "execution_count": null,
   "metadata": {},
   "outputs": [],
   "source": [
    "#SUBTASK 1, takes the whole book file as an argument\n",
    "\n",
    "#all you have to do is populate dictTOC as shown commented out and \n",
    "#the function will handle writing everything for you etc.\n",
    "def exec_regex_toc( file_book = None ) :\n",
    "\n",
    "\t# INSERT CODE TO USE REGEX TO BUILD A TABLE OF CONTENTS FOR A BOOK (subtask 1)\n",
    "\n",
    "#\t# hardcoded output to show exactly what is expected to be serialized\n",
    "#\tdictTOC = {\n",
    "#\t\t\t\"1\": \"I AM BORN\",\n",
    "#\t\t\t\"2\": \"I OBSERVE\",\n",
    "#\t\t\t\"3\": \"I HAVE A CHANGE\"\n",
    "#\t\t}\n",
    "\n",
    "\t# DO NOT CHANGE THE BELOW CODE WHICH WILL SERIALIZE THE ANSWERS FOR THE AUTOMATED TEST HARNESS TO LOAD AND MARK\n",
    "\n",
    "\twriteHandle = codecs.open( 'toc.json', 'w', 'utf-8', errors = 'replace' )\n",
    "\tstrJSON = json.dumps( dictTOC, indent=2 )\n",
    "\twriteHandle.write( strJSON + '\\n' )\n",
    "\twriteHandle.close()"
   ]
  },
  {
   "cell_type": "code",
   "execution_count": null,
   "metadata": {},
   "outputs": [],
   "source": [
    "#SUBTASK 2, take the file chapter as argument and handles writing the list of questions\n",
    "\n",
    "#all you ahve to do is populate setQuestions as is shown commented out\n",
    "#and the function will then handle writing everything and stuff for you\n",
    "def exec_regex_questions( file_chapter = None ) :\n",
    "\n",
    "\t# INSERT CODE TO USE REGEX TO LIST ALL QUESTIONS IN THE CHAPTER OF TEXT (subtask 2)\n",
    "\n",
    "\t# hardcoded output to show exactly what is expected to be serialized\n",
    "#\tsetQuestions = set([\n",
    "#\t\t\"Traddles?\",\n",
    "#\t\t\"And another shilling or so in biscuits, and another in fruit, eh?\",\n",
    "#\t\t\"Perhaps you’d like to spend a couple of shillings or so, in a bottle of currant wine by and by, up in the bedroom?\",\n",
    "#\t\t\"Has that fellow’--to the man with the wooden leg--‘been here again?\"\n",
    "#\t\t])\n",
    "\n",
    "\t# DO NOT CHANGE THE BELOW CODE WHICH WILL SERIALIZE THE ANSWERS FOR THE AUTOMATED TEST HARNESS TO LOAD AND MARK\n",
    "\n",
    "\twriteHandle = codecs.open( 'questions.txt', 'w', 'utf-8', errors = 'replace' )\n",
    "\tfor strQuestion in setQuestions :\n",
    "\t\twriteHandle.write( strQuestion + '\\n' )\n",
    "\twriteHandle.close()"
   ]
  },
  {
   "cell_type": "code",
   "execution_count": null,
   "metadata": {},
   "outputs": [],
   "source": [
    "#test each of the subtasks showing all the dictionary results\n",
    "def do_testing():\n",
    "    "
   ]
  },
  {
   "cell_type": "code",
   "execution_count": null,
   "metadata": {},
   "outputs": [],
   "source": [
    "#Used for taking the chapter file and ontonotes dataset as an argument\n",
    "#then training the task 3 and task 4 models and writing the dictionary\n",
    "#results for each of them\n",
    "\n",
    "#all you have to do is fill up dictNE as is shown commented out and\n",
    "#the function handles writing everything for you\n",
    "def exec_ner( file_chapter = None, ontonotes_file = None ) :\n",
    "\n",
    "\t# INSERT CODE TO TRAIN A CRF NER MODEL TO TAG THE CHAPTER OF TEXT (subtask 3)\n",
    "\t# USING NER MODEL AND REGEX GENERATE A SET OF BOOK CHARACTERS AND FILTERED SET OF NE TAGS (subtask 4)\n",
    "\n",
    "\t# hardcoded output to show exactly what is expected to be serialized (you should change this)\n",
    "#\tdictNE = {\n",
    "#\t\t\t\"CARDINAL\": [\n",
    "#\t\t\t\t\"two\",\n",
    "#\t\t\t\t\"three\",\n",
    "#\t\t\t\t\"one\"\n",
    "#\t\t\t],\n",
    "#\t\t\t\"ORDINAL\": [\n",
    "#\t\t\t\t\"first\"\n",
    "#\t\t\t],\n",
    "#\t\t\t\"DATE\": [\n",
    "\t#\t\t\t\"saturday\",\n",
    "#\t\t\t],\n",
    "#\t\t\t\"NORP\": [\n",
    "#\t\t\t\t\"indians\"\n",
    "#\t\t\t],\n",
    "#\t\t\t\"PERSON\": [\n",
    "#\t\t\t\t\"creakle\",\n",
    "#\t\t\t\t\"mr. creakle\",\n",
    "#\t\t\t\t\"mrs. creakle\",\n",
    "#\t\t\t\t\"miss creakle\"\n",
    "#\t\t\t]\n",
    "#\t\t}\n",
    "\n",
    "\t# DO NOT CHANGE THE BELOW CODE WHICH WILL SERIALIZE THE ANSWERS FOR THE AUTOMATED TEST HARNESS TO LOAD AND MARK\n",
    "\n",
    "\t# write out all PERSON entries for character list for subtask 4\n",
    "\twriteHandle = codecs.open( 'characters.txt', 'w', 'utf-8', errors = 'replace' )\n",
    "\tif 'PERSON' in dictNE :\n",
    "\t\tfor strNE in dictNE['PERSON'] :\n",
    "\t\t\twriteHandle.write( strNE.strip().lower()+ '\\n' )\n",
    "\twriteHandle.close()\n",
    "\n",
    "\t# FILTER NE dict by types required for subtask 3\n",
    "\tlistAllowedTypes = [ 'DATE', 'CARDINAL', 'ORDINAL', 'NORP' ]\n",
    "\tlistKeys = list( dictNE.keys() )\n",
    "\tfor strKey in listKeys :\n",
    "\t\tfor nIndex in range(len(dictNE[strKey])) :\n",
    "\t\t\tdictNE[strKey][nIndex] = dictNE[strKey][nIndex].strip().lower()\n",
    "\t\tif not strKey in listAllowedTypes :\n",
    "\t\t\tdel dictNE[strKey]\n",
    "\n",
    "\t# write filtered NE dict\n",
    "\twriteHandle = codecs.open( 'ne.json', 'w', 'utf-8', errors = 'replace' )\n",
    "\tstrJSON = json.dumps( dictNE, indent=2 )\n",
    "\twriteHandle.write( strJSON + '\\n' )\n",
    "\twriteHandle.close()"
   ]
  },
  {
   "cell_type": "code",
   "execution_count": null,
   "metadata": {},
   "outputs": [],
   "source": []
  },
  {
   "cell_type": "code",
   "execution_count": null,
   "metadata": {},
   "outputs": [],
   "source": []
  }
 ],
 "metadata": {
  "kernelspec": {
   "display_name": "Python 3",
   "language": "python",
   "name": "python3"
  },
  "language_info": {
   "codemirror_mode": {
    "name": "ipython",
    "version": 3
   },
   "file_extension": ".py",
   "mimetype": "text/x-python",
   "name": "python",
   "nbconvert_exporter": "python",
   "pygments_lexer": "ipython3",
   "version": "3.8.3"
  }
 },
 "nbformat": 4,
 "nbformat_minor": 4
}
